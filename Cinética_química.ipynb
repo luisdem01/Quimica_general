{
  "nbformat": 4,
  "nbformat_minor": 0,
  "metadata": {
    "colab": {
      "provenance": [],
      "authorship_tag": "ABX9TyP5s6AmgWHcIc6udMXNh7qD",
      "include_colab_link": true
    },
    "kernelspec": {
      "name": "python3",
      "display_name": "Python 3"
    },
    "language_info": {
      "name": "python"
    }
  },
  "cells": [
    {
      "cell_type": "markdown",
      "metadata": {
        "id": "view-in-github",
        "colab_type": "text"
      },
      "source": [
        "<a href=\"https://colab.research.google.com/github/luisdem01/Quimica_general/blob/main/Cin%C3%A9tica_qu%C3%ADmica.ipynb\" target=\"_parent\"><img src=\"https://colab.research.google.com/assets/colab-badge.svg\" alt=\"Open In Colab\"/></a>"
      ]
    },
    {
      "cell_type": "markdown",
      "source": [
        "#Cinética Química\n",
        "Alumno: Angel Luis Kallpa De la Cruz Meza"
      ],
      "metadata": {
        "id": "xapPFARQJFmh"
      }
    },
    {
      "cell_type": "code",
      "execution_count": null,
      "metadata": {
        "id": "phfSZQ6Z6piQ"
      },
      "outputs": [],
      "source": [
        "!pip install rdkit\n",
        "!pip install pyscf"
      ]
    },
    {
      "cell_type": "code",
      "source": [
        "from rdkit import Chem\n",
        "from rdkit.Chem import Draw\n",
        "from rdkit.Chem import AllChem\n",
        "from rdkit.Chem.Draw import IPythonConsole\n",
        "IPythonConsole.drawOptions.addAtomIndices = True\n",
        "from pyscf import gto, scf"
      ],
      "metadata": {
        "id": "R_lXenBp7Gj7"
      },
      "execution_count": 4,
      "outputs": []
    },
    {
      "cell_type": "code",
      "source": [
        "smiles_cis = \"F\\C=C/C\"\n",
        "cis = Chem.MolFromSmiles(smiles_cis)\n",
        "cis = Chem.AddHs(cis)\n",
        "Chem.AllChem.EmbedMolecule(cis)\n",
        "Chem.MolToXYZFile(cis, \"cis.xyz\")"
      ],
      "metadata": {
        "id": "hn4-dWI27LHK"
      },
      "execution_count": 48,
      "outputs": []
    },
    {
      "cell_type": "code",
      "source": [
        "cis"
      ],
      "metadata": {
        "colab": {
          "base_uri": "https://localhost:8080/",
          "height": 167
        },
        "id": "39oxZoSs7N36",
        "outputId": "926b9c6f-83f6-4b70-c414-6c97d0fe3b4e"
      },
      "execution_count": 49,
      "outputs": [
        {
          "output_type": "execute_result",
          "data": {
            "text/plain": [
              "<rdkit.Chem.rdchem.Mol at 0x78362b196ab0>"
            ],
            "image/png": "[encoded data removed]"
          },
          "metadata": {},
          "execution_count": 49
        }
      ]
    },
    {
      "cell_type": "code",
      "source": [
        "# visualizamos las coordenadas en el archivo XYZ\n",
        "!cat cis.xyz"
      ],
      "metadata": {
        "colab": {
          "base_uri": "https://localhost:8080/"
        },
        "id": "5aYi1qD07RUK",
        "outputId": "e59af3bc-8e5d-4d14-95fc-5189eeb0e30b"
      },
      "execution_count": 52,
      "outputs": [
        {
          "output_type": "stream",
          "name": "stdout",
          "text": [
            "9\n",
            "\n",
            "F      1.140246   -1.591411    0.006305\n",
            "C      1.309925   -0.251639   -0.095712\n",
            "C      0.267271    0.536209   -0.072779\n",
            "C     -1.116014   -0.012645    0.064376\n",
            "H      2.316685    0.124832   -0.194000\n",
            "H      0.380842    1.603794   -0.152492\n",
            "H     -1.757868    0.560561   -0.607201\n",
            "H     -1.394699    0.140035    1.142489\n",
            "H     -1.146388   -1.109735   -0.090986\n"
          ]
        }
      ]
    },
    {
      "cell_type": "code",
      "source": [
        "smiles_trans = \"F/C=C/C\"\n",
        "trans = Chem.MolFromSmiles(smiles_trans)\n",
        "trans = Chem.AddHs(trans)\n",
        "Chem.AllChem.EmbedMolecule(trans)\n",
        "Chem.MolToXYZFile(trans, \"trans.xyz\")\n",
        ""
      ],
      "metadata": {
        "id": "bMr2tx7U7hnq"
      },
      "execution_count": 50,
      "outputs": []
    },
    {
      "cell_type": "code",
      "source": [
        "trans"
      ],
      "metadata": {
        "colab": {
          "base_uri": "https://localhost:8080/",
          "height": 167
        },
        "id": "fuRLj-5u7jNy",
        "outputId": "e14fd2d7-bdf2-4231-d1bb-fb072c0e40ed"
      },
      "execution_count": 51,
      "outputs": [
        {
          "output_type": "execute_result",
          "data": {
            "text/plain": [
              "<rdkit.Chem.rdchem.Mol at 0x78362b1976f0>"
            ],
            "image/png": "[encoded data removed]"
          },
          "metadata": {},
          "execution_count": 51
        }
      ]
    },
    {
      "cell_type": "code",
      "source": [
        "!cat trans.xyz"
      ],
      "metadata": {
        "colab": {
          "base_uri": "https://localhost:8080/"
        },
        "id": "jUCfBN707n7q",
        "outputId": "71e9154f-b0a6-4336-cec9-28abd71903c8"
      },
      "execution_count": 36,
      "outputs": [
        {
          "output_type": "stream",
          "name": "stdout",
          "text": [
            "9\n",
            "\n",
            "F      2.583218   -1.257941   -2.352399\n",
            "C      1.602373   -0.488710   -1.827558\n",
            "C      0.466801   -0.261777   -2.451114\n",
            "C     -0.558008    0.595547   -1.803234\n",
            "H      1.752808   -0.035585   -0.848492\n",
            "H      0.325373   -0.716843   -3.425519\n",
            "H     -1.059092    0.004962   -1.010088\n",
            "H     -0.016746    1.437523   -1.308818\n",
            "H     -1.291538    1.013939   -2.519858\n"
          ]
        }
      ]
    },
    {
      "cell_type": "code",
      "source": [
        "Chem.AllChem.SetDihedralDeg(cis.GetConformer(0),3,2,1,0,90.0)\n",
        "Chem.MolToXYZFile(cis, \"diedro.xyz\")\n",
        "cis"
      ],
      "metadata": {
        "colab": {
          "base_uri": "https://localhost:8080/",
          "height": 167
        },
        "id": "KzwhwCNN7rUC",
        "outputId": "bb284331-eb07-43f8-97ba-4df33c00b629"
      },
      "execution_count": 53,
      "outputs": [
        {
          "output_type": "execute_result",
          "data": {
            "text/plain": [
              "<rdkit.Chem.rdchem.Mol at 0x78362b196ab0>"
            ],
            "image/png": "[encoded data removed]"
          },
          "metadata": {},
          "execution_count": 53
        }
      ]
    },
    {
      "cell_type": "code",
      "source": [
        "!cat diedro.xyz"
      ],
      "metadata": {
        "colab": {
          "base_uri": "https://localhost:8080/"
        },
        "id": "ItjL32Gd7w5D",
        "outputId": "86943146-2061-4924-8f51-2456bbffe4b1"
      },
      "execution_count": 54,
      "outputs": [
        {
          "output_type": "stream",
          "name": "stdout",
          "text": [
            "9\n",
            "\n",
            "F      1.759740   -0.734162   -1.278516\n",
            "C      1.309925   -0.251639   -0.095712\n",
            "C      0.267271    0.536209   -0.072779\n",
            "C     -1.116014   -0.012645    0.064376\n",
            "H      1.836788   -0.539244    0.801314\n",
            "H      0.380842    1.603794   -0.152492\n",
            "H     -1.757868    0.560561   -0.607201\n",
            "H     -1.394699    0.140035    1.142489\n",
            "H     -1.146388   -1.109735   -0.090986\n"
          ]
        }
      ]
    },
    {
      "cell_type": "code",
      "source": [
        "cis = gto.M(atom=\"cis.xyz\")\n",
        "\n",
        "cis.basis = \"6-31g\"\n",
        "mf_cis = cis.KS()\n",
        "mf_cis.xc = 'b3lyp'"
      ],
      "metadata": {
        "id": "8eY64tzL71_i"
      },
      "execution_count": 57,
      "outputs": []
    },
    {
      "cell_type": "code",
      "source": [
        "resultado_cis = mf_cis.kernel()"
      ],
      "metadata": {
        "colab": {
          "base_uri": "https://localhost:8080/"
        },
        "id": "GFl5zHSp7_cB",
        "outputId": "8d4dd7c9-48ba-4785-c1cf-584404e27795"
      },
      "execution_count": 58,
      "outputs": [
        {
          "output_type": "stream",
          "name": "stdout",
          "text": [
            "converged SCF energy = -214.250904808457\n"
          ]
        }
      ]
    },
    {
      "cell_type": "code",
      "source": [
        "cis_diedro = gto.M(atom=\"diedro.xyz\")\n",
        "\n",
        "cis_diedro.basis = \"6-31G\"\n",
        "mf_diedro = cis_diedro.KS()\n",
        "mf_diedro.xc = 'b3lyp'"
      ],
      "metadata": {
        "id": "KzlKufhT8LhJ"
      },
      "execution_count": 59,
      "outputs": []
    },
    {
      "cell_type": "code",
      "source": [
        "resultado_cis_diedro = mf_diedro.kernel()"
      ],
      "metadata": {
        "colab": {
          "base_uri": "https://localhost:8080/"
        },
        "id": "GLIAqAHd8NuC",
        "outputId": "43475f73-7ab8-4a67-d404-e3f4bd1e5ea1"
      },
      "execution_count": 60,
      "outputs": [
        {
          "output_type": "stream",
          "name": "stdout",
          "text": [
            "converged SCF energy = -214.081805983256\n"
          ]
        }
      ]
    },
    {
      "cell_type": "code",
      "source": [
        "trans = gto.M(atom=\"trans.xyz\")\n",
        "\n",
        "trans.basis = \"6-31G\"\n",
        "mf_trans = trans.KS()\n",
        "mf_trans.xc = 'b3lyp'"
      ],
      "metadata": {
        "id": "6CEMAcSU8rsa"
      },
      "execution_count": 43,
      "outputs": []
    },
    {
      "cell_type": "code",
      "source": [
        "resultado_trans= mf_trans.kernel()"
      ],
      "metadata": {
        "colab": {
          "base_uri": "https://localhost:8080/"
        },
        "id": "lnV3nGZf8uF6",
        "outputId": "599d8546-947a-4a12-996d-046a50bd9863"
      },
      "execution_count": 44,
      "outputs": [
        {
          "output_type": "stream",
          "name": "stdout",
          "text": [
            "converged SCF energy = -214.250789328418\n"
          ]
        }
      ]
    },
    {
      "cell_type": "code",
      "source": [
        "!pip install git+https://github.com/giacomomarchioro/PyEnergyDiagrams"
      ],
      "metadata": {
        "id": "XHrpu0w486Tz"
      },
      "execution_count": null,
      "outputs": []
    },
    {
      "cell_type": "code",
      "source": [
        "import matplotlib.pyplot as plt\n",
        "from energydiagram import ED\n",
        "\n",
        "diagram = ED()\n",
        "diagram.add_level(resultado_cis,'cis')\n",
        "diagram.add_level(resultado_cis_diedro,'diedro')\n",
        "diagram.add_level(resultado_trans,'trans')\n",
        "\n",
        "diagram.add_link(0,1)\n",
        "diagram.add_link(1,2)\n",
        "diagram.plot(ylabel=\"Energía\")"
      ],
      "metadata": {
        "colab": {
          "base_uri": "https://localhost:8080/",
          "height": 393
        },
        "id": "kM1R7r_A8-qB",
        "outputId": "2846a581-e1d2-4b31-a93d-1e3310967bf0"
      },
      "execution_count": 67,
      "outputs": [
        {
          "output_type": "display_data",
          "data": {
            "text/plain": [
              "<Figure size 640x480 with 1 Axes>"
            ],
            "image/png": "[encoded data removed]"
          },
          "metadata": {}
        }
      ]
    },
    {
      "cell_type": "code",
      "source": [
        "E_activacion = resultado_cis_diedro - resultado_cis\n",
        "E_activacion"
      ],
      "metadata": {
        "colab": {
          "base_uri": "https://localhost:8080/"
        },
        "id": "bD_oztLH9OwR",
        "outputId": "ac072279-4b30-4e7c-c84a-65fb256255f2"
      },
      "execution_count": 68,
      "outputs": [
        {
          "output_type": "execute_result",
          "data": {
            "text/plain": [
              "0.16909882520019437"
            ]
          },
          "metadata": {},
          "execution_count": 68
        }
      ]
    },
    {
      "cell_type": "code",
      "source": [
        "entalpia = resultado_trans - resultado_cis\n",
        "if entalpia>0:\n",
        "  print(\"La reacción es endotérmica\")\n",
        "else:\n",
        "    print(\"La reacción es exotérmica\")"
      ],
      "metadata": {
        "colab": {
          "base_uri": "https://localhost:8080/"
        },
        "id": "qw_-qbKL9RB5",
        "outputId": "fd93cd9e-3fe0-4b6b-c2da-048d786858d7"
      },
      "execution_count": 69,
      "outputs": [
        {
          "output_type": "stream",
          "name": "stdout",
          "text": [
            "La reacción es endotérmica\n"
          ]
        }
      ]
    }
  ]
}