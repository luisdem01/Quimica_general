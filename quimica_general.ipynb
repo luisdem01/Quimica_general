{
  "nbformat": 4,
  "nbformat_minor": 0,
  "metadata": {
    "colab": {
      "provenance": [],
      "authorship_tag": "ABX9TyO7ipJbc5JasPCtzW5vqBs7",
      "include_colab_link": true
    },
    "kernelspec": {
      "name": "python3",
      "display_name": "Python 3"
    },
    "language_info": {
      "name": "python"
    }
  },
  "cells": [
    {
      "cell_type": "markdown",
      "metadata": {
        "id": "view-in-github",
        "colab_type": "text"
      },
      "source": [
        "<a href=\"https://colab.research.google.com/github/luisdem01/Quimica_general/blob/main/quimica_general.ipynb\" target=\"_parent\"><img src=\"https://colab.research.google.com/assets/colab-badge.svg\" alt=\"Open In Colab\"/></a>"
      ]
    },
    {
      "cell_type": "markdown",
      "source": [
        "#PC N°1: Materia y clasificación"
      ],
      "metadata": {
        "id": "Se8guXjPxA7r"
      }
    },
    {
      "cell_type": "markdown",
      "source": [
        "##Pregunta 1: Sobre el ABC de python"
      ],
      "metadata": {
        "id": "cBp7t64FA_Kn"
      }
    },
    {
      "cell_type": "code",
      "execution_count": 11,
      "metadata": {
        "colab": {
          "base_uri": "https://localhost:8080/"
        },
        "id": "Fx5nXY6BwW1s",
        "outputId": "609aecb3-a89f-4de3-d99f-6d7c788ac7c2"
      },
      "outputs": [
        {
          "output_type": "stream",
          "name": "stdout",
          "text": [
            "Version: 3.10.12\n",
            "\n",
            "Here is a list of the Python keywords.  Enter any keyword to get more help.\n",
            "\n",
            "False               class               from                or\n",
            "None                continue            global              pass\n",
            "True                def                 if                  raise\n",
            "and                 del                 import              return\n",
            "as                  elif                in                  try\n",
            "assert              else                is                  while\n",
            "async               except              lambda              with\n",
            "await               finally             nonlocal            yield\n",
            "break               for                 not                 \n",
            "\n"
          ]
        }
      ],
      "source": [
        "# Imprime la versión de python que usas y las palabras reservadas de python para esa versión.\n",
        "\n",
        "import platform\n",
        "\n",
        "print(f\"Version: {platform.python_version()}\")\n",
        "\n",
        "help(\"keywords\")"
      ]
    },
    {
      "cell_type": "code",
      "source": [
        "# Crea una matriz de 3x3 e imprime la suma de los elementos en su diagonal (traza).\n",
        "\n",
        "matriz = [[1,2,3], [4,5,6], [7,8,9]]\n",
        "\n",
        "suma = 0\n",
        "\n",
        "for i in range(3):\n",
        "    for j in range(3):\n",
        "        if i == j:\n",
        "            suma += matriz[i][j]\n",
        "\n",
        "print(suma)"
      ],
      "metadata": {
        "colab": {
          "base_uri": "https://localhost:8080/"
        },
        "id": "P5nzSSNg083U",
        "outputId": "e3f61a68-6d7a-4602-ff8e-d38f135eda7e"
      },
      "execution_count": 12,
      "outputs": [
        {
          "output_type": "stream",
          "name": "stdout",
          "text": [
            "15\n"
          ]
        }
      ]
    },
    {
      "cell_type": "code",
      "source": [
        "# Guarda como variable la masa atómica de los elementos C, H y O, e imprime la masa molecular del etanol.\n",
        "\n",
        "masa_c = 12.011\n",
        "masa_h = 1.00784\n",
        "masa_o = 15.999\n",
        "\n",
        "masa_etanol = masa_c*2 + masa_h*6 + masa_o\n",
        "\n",
        "print(f\"La masa molecular del etanol es: {round(masa_etanol,3)} g/mol\")"
      ],
      "metadata": {
        "colab": {
          "base_uri": "https://localhost:8080/"
        },
        "id": "r9EGSh2u67gN",
        "outputId": "6a81115b-a68a-4b6e-ad51-7b98084875d7"
      },
      "execution_count": 13,
      "outputs": [
        {
          "output_type": "stream",
          "name": "stdout",
          "text": [
            "La masa molecular del etanol es: 46.068 g/mol\n"
          ]
        }
      ]
    },
    {
      "cell_type": "code",
      "source": [
        "# Busca la temperatura de fusión en Celsius de 5 metales y guárdalos en una lista. Imprime las temperaturas en Kelvin\n",
        "\n",
        "metal = [\"Hierro\",\"Aluminio\",\"Cobre\",\"Plomo\",\"Zinc\"]\n",
        "temperatura = [1538,660.3,1085,327.5,419.5]\n",
        "\n",
        "print(\"Temperatura de fusion en grados celcius:\")\n",
        "for i in range(5):\n",
        "    print(f\"{metal[i]}: {temperatura[i]} °C\")\n",
        "\n",
        "print()\n",
        "print(\"Temperatura de fusion en grados kelvin:\")\n",
        "for j in range(5):\n",
        "    print(f\"{metal[j]}: {temperatura[j]+273} K\")"
      ],
      "metadata": {
        "colab": {
          "base_uri": "https://localhost:8080/"
        },
        "id": "FhagV4OJ_1V-",
        "outputId": "1308cf93-083f-4df5-a681-d884ec819851"
      },
      "execution_count": 14,
      "outputs": [
        {
          "output_type": "stream",
          "name": "stdout",
          "text": [
            "Temperatura de fusion en grados celcius:\n",
            "Hierro: 1538 °C\n",
            "Aluminio: 660.3 °C\n",
            "Cobre: 1085 °C\n",
            "Plomo: 327.5 °C\n",
            "Zinc: 419.5 °C\n",
            "\n",
            "Temperatura de fusion en grados kelvin:\n",
            "Hierro: 1811 K\n",
            "Aluminio: 933.3 K\n",
            "Cobre: 1358 K\n",
            "Plomo: 600.5 K\n",
            "Zinc: 692.5 K\n"
          ]
        }
      ]
    }
  ]
}