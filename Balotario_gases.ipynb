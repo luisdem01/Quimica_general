{
  "nbformat": 4,
  "nbformat_minor": 0,
  "metadata": {
    "colab": {
      "provenance": [],
      "authorship_tag": "ABX9TyOrCkIYXTsIaWVuwslZiajZ",
      "include_colab_link": true
    },
    "kernelspec": {
      "name": "python3",
      "display_name": "Python 3"
    },
    "language_info": {
      "name": "python"
    }
  },
  "cells": [
    {
      "cell_type": "markdown",
      "metadata": {
        "id": "view-in-github",
        "colab_type": "text"
      },
      "source": [
        "<a href=\"https://colab.research.google.com/github/luisdem01/Quimica_general/blob/main/Balotario_gases.ipynb\" target=\"_parent\"><img src=\"https://colab.research.google.com/assets/colab-badge.svg\" alt=\"Open In Colab\"/></a>"
      ]
    },
    {
      "cell_type": "markdown",
      "source": [
        "#Balotario gases\n",
        "Alumno: Angel Luis Kallpa De la Cruz Meza"
      ],
      "metadata": {
        "id": "WZ9hXjky_8zr"
      }
    },
    {
      "cell_type": "markdown",
      "source": [
        "##Pregunta 1. El estado Gaseoso: generalidades"
      ],
      "metadata": {
        "id": "RxcFw115AM2S"
      }
    },
    {
      "cell_type": "code",
      "execution_count": null,
      "metadata": {
        "colab": {
          "base_uri": "https://localhost:8080/"
        },
        "id": "jkjt1lXYLU8c",
        "outputId": "d0fad2b7-4d53-4700-df94-78aac4e8ae21"
      },
      "outputs": [
        {
          "output_type": "stream",
          "name": "stdout",
          "text": [
            "El volumen del gas seria: 16.4 L\n"
          ]
        }
      ],
      "source": [
        "#1.1. Calcula el volumen ocupado por 2 moles de gas a una presión de 3 atmósferas y una\n",
        "#temperatura de 300 K.\n",
        "\n",
        "n = 2\n",
        "P = 3\n",
        "T = 300\n",
        "R = 0.082\n",
        "\n",
        "V = (n*R*T)/P\n",
        "\n",
        "print(f\"El volumen del gas seria: {round(V,3)} L\")"
      ]
    },
    {
      "cell_type": "code",
      "source": [
        "#1.3. Si 1 mol de un gas ideal ocupa 22.4 litros a 0°C y 1 atmósfera, ¿cuál es la constante R en\n",
        "#unidades de litros x atmósferas / (mol x Kelvin)?\n",
        "\n",
        "n = 1\n",
        "V = 22.4\n",
        "Tc = 0\n",
        "P = 1\n",
        "\n",
        "Tk = Tc + 273\n",
        "\n",
        "R = (P*V)/(n*Tk)\n",
        "\n",
        "print(f\"La constante de los gases ideales cuando la presion esta en atmosferas seria: {round(R,3)} (atm*L)/(mol*K)\")"
      ],
      "metadata": {
        "colab": {
          "base_uri": "https://localhost:8080/"
        },
        "id": "VSYk0rU0MIfC",
        "outputId": "aa7ef5b0-9399-41f2-9125-d3c56b3dedde"
      },
      "execution_count": null,
      "outputs": [
        {
          "output_type": "stream",
          "name": "stdout",
          "text": [
            "La constante de los gases ideales cuando la presion esta en atmosferas seria: 0.082 (atm*L)/(mol*K)\n"
          ]
        }
      ]
    },
    {
      "cell_type": "markdown",
      "source": [
        "##Pregunta 2. Características del estado gaseoso"
      ],
      "metadata": {
        "id": "VtvEresjAYza"
      }
    },
    {
      "cell_type": "markdown",
      "source": [
        "Pregunta 2.1\n",
        "¿Cuál es la principal característica que distingue a los gases de los líquidos y sólidos?\n",
        "\n",
        "La principal característica que distingue a los gases de los líquidos y sólidos es la forma. Los gases no tienen forma definida, sino que adoptan la forma del recipiente que los contiene. Los líquidos y sólidos, por el contrario, tienen una forma definida, que no cambia con el recipiente que los contiene.\n",
        "\n",
        "Otra característica que distingue a los gases de los líquidos y sólidos es la densidad. Los gases tienen una densidad mucho menor que los líquidos y sólidos. Esto se debe a que las partículas de un gas están muy separadas entre sí, mientras que las partículas de un líquido o sólido están mucho más juntas."
      ],
      "metadata": {
        "id": "weJF2ZmLb0u0"
      }
    },
    {
      "cell_type": "markdown",
      "source": [
        "2.3. Si se duplica la temperatura de un gas ideal, ¿cómo afecta esto a su presión, suponiendo que\n",
        "el volumen y la cantidad de gas permanezcan constantes?\n",
        "\n",
        "La presión de un gas ideal es causada por las colisiones de las moléculas del gas con las paredes del recipiente que lo contiene. A medida que aumenta la temperatura, las moléculas del gas se mueven más rápido, lo que significa que chocan con las paredes con más fuerza. Esto da como resultado un aumento de la presión.\n",
        "\n",
        "Por lo tanto, si se duplica la temperatura de un gas ideal, las moléculas del gas se moverán dos veces más rápido, lo que provocará un aumento de la presión en dos veces."
      ],
      "metadata": {
        "id": "V_2jsWPLcYrs"
      }
    },
    {
      "cell_type": "markdown",
      "source": [
        "##Pregunta 3. Definición y problemas sobre presión"
      ],
      "metadata": {
        "id": "qKVCcN7VAp8p"
      }
    },
    {
      "cell_type": "code",
      "source": [
        "#3.1. Calcula la presión ejercida por 0.5 moles de gas en un recipiente de 10 litros a 25°C.\n",
        "\n",
        "n = 0.5\n",
        "V = 10\n",
        "Tc = 25\n",
        "R = 0.082\n",
        "\n",
        "Tk = Tc + 273\n",
        "\n",
        "P = (n*R*Tk)/V\n",
        "\n",
        "print(f\"La presion seria: {round(P,3)} atm\")"
      ],
      "metadata": {
        "colab": {
          "base_uri": "https://localhost:8080/"
        },
        "id": "_H5El7uKMtna",
        "outputId": "30d8c916-19fa-41fc-fdd0-6ba3da344939"
      },
      "execution_count": null,
      "outputs": [
        {
          "output_type": "stream",
          "name": "stdout",
          "text": [
            "La presion seria: 1.222 atm\n"
          ]
        }
      ]
    },
    {
      "cell_type": "code",
      "source": [
        "#3.4. Si un gas ocupa 500 ml a una presión de 750 mmHg, ¿cuál es su volumen a 1 atmósfera?\n",
        "\n",
        "Vml = 500\n",
        "Pmmhg = 750\n",
        "Patm2 = 1\n",
        "\n",
        "Vl1 = Vml/1000\n",
        "Patm1 = Pmmhg/760\n",
        "\n",
        "\n",
        "Vl2 = Vl1*Patm1/Patm2\n",
        "\n",
        "print(f\"El volumen a 1 atm seria: {round(Vl2,3)} L\")"
      ],
      "metadata": {
        "colab": {
          "base_uri": "https://localhost:8080/"
        },
        "id": "1YD9yLbwOKOE",
        "outputId": "c2ead858-d493-413e-b219-ba7c8a66d512"
      },
      "execution_count": null,
      "outputs": [
        {
          "output_type": "stream",
          "name": "stdout",
          "text": [
            "El volumen a 1 atm seria: 0.493 L\n"
          ]
        }
      ]
    },
    {
      "cell_type": "markdown",
      "source": [
        "##Pregunta 4. Principios de la Teoría Cinético Molecular de los gases"
      ],
      "metadata": {
        "id": "b9a9Y3sIAvuZ"
      }
    },
    {
      "cell_type": "markdown",
      "source": [
        "4.3. ¿Por qué la temperatura se relaciona con la velocidad promedio de las partículas en un gas ideal?\n",
        "\n",
        "A medida que aumenta la temperatura, las partículas del gas se mueven más rápido. Esto se debe a que las partículas del gas tienen más energía cinética. La energía cinética es la energía que tienen las partículas debido a su movimiento. A medida que las partículas se mueven más rápido, tienen más energía cinética.\n",
        "\n",
        "La velocidad promedio de las partículas en un gas ideal es una medida de la rapidez con la que se mueven las partículas. Es una medida importante del comportamiento de un gas ideal."
      ],
      "metadata": {
        "id": "TinkHMIcchAK"
      }
    },
    {
      "cell_type": "markdown",
      "source": [
        "4.5. Explica por qué la teoría cinético-molecular se aplica mejor a los gases ideales que a los gases\n",
        "reales.\n",
        "\n",
        "La teoría cinético-molecular se aplica mejor a los gases ideales que a los gases reales porque los gases reales no cumplen con todos los postulados de la teoría.\n",
        "\n",
        "Los postulados de la teoría cinético-molecular son:\n",
        "\n",
        "\n",
        "\n",
        "* Las partículas de un gas ideal son muy pequeñas en comparación con el volumen\n",
        "del recipiente que las contiene.\n",
        "* Las partículas de un gas ideal se mueven de forma aleatoria en todas las direcciones.\n",
        "* Las colisiones entre las partículas de un gas ideal son elásticas, lo que significa que no hay pérdida de energía.\n",
        "*  fuerzas de atracción entre las partículas de un gas ideal son despreciables.\n",
        "* Las fuerzas de atracción entre las partículas de un gas ideal son despreciables.\n",
        "\n",
        "Los gases reales no cumplen con todos estos postulados. Por ejemplo, las partículas de los gases reales tienen un tamaño finito, lo que significa que ocupan cierto volumen. Además, las partículas de los gases reales pueden experimentar fuerzas de atracción entre sí, lo que afecta su movimiento."
      ],
      "metadata": {
        "id": "YpCO5-mxd3qz"
      }
    },
    {
      "cell_type": "markdown",
      "source": [
        "##Pregunta 5. Ley General de los Gases Ideales"
      ],
      "metadata": {
        "id": "z4frEBHWBM_K"
      }
    },
    {
      "cell_type": "code",
      "source": [
        "#5.1. Utiliza la ecuación de los gases ideales para calcular la presión de 2 moles de gas en un\n",
        "#recipiente de 5 litros a 25°C.\n",
        "\n",
        "n = 2\n",
        "V = 5\n",
        "Tc = 25\n",
        "R = 8.314\n",
        "\n",
        "Tk = Tc + 273\n",
        "\n",
        "P = (n*R*Tk)/V\n",
        "\n",
        "print(f\"La presion seria: {round(P/1000,3)} kPa\")"
      ],
      "metadata": {
        "colab": {
          "base_uri": "https://localhost:8080/"
        },
        "id": "HZM1Kx9OPEz8",
        "outputId": "1d2f351c-2696-4042-e98b-a968f137f3ad"
      },
      "execution_count": null,
      "outputs": [
        {
          "output_type": "stream",
          "name": "stdout",
          "text": [
            "La presion seria: 0.991 kPa\n"
          ]
        }
      ]
    },
    {
      "cell_type": "code",
      "source": [
        "#5.2. Si tienes un gas que ocupa 10 litros a 3 atmósferas de presión y 273 K de temperatura,\n",
        "#¿cuántos moles de gas tienes?\n",
        "\n",
        "V = 10\n",
        "P = 3\n",
        "T = 273\n",
        "R = 0.082\n",
        "\n",
        "n = (P*V)/(R*T)\n",
        "\n",
        "print(f\"El numero de moles seria: {round(n,3)} mol\")"
      ],
      "metadata": {
        "colab": {
          "base_uri": "https://localhost:8080/"
        },
        "id": "hJKpWbjFP5fs",
        "outputId": "f913605b-70f9-4b5d-c922-86aa2c0b3bbe"
      },
      "execution_count": null,
      "outputs": [
        {
          "output_type": "stream",
          "name": "stdout",
          "text": [
            "El numero de moles seria: 1.34 mol\n"
          ]
        }
      ]
    },
    {
      "cell_type": "markdown",
      "source": [
        "##Pregunta 6. Ley de Gay-Lussac"
      ],
      "metadata": {
        "id": "Lv3PS5hUBR4K"
      }
    },
    {
      "cell_type": "code",
      "source": [
        "#6.1. Un recipiente de 2 litros contiene 1 mol de gas a 300 K. Si la presión se duplica manteniendo\n",
        "#el volumen constante, ¿cuál será la nueva temperatura?\n",
        "\n",
        "V = 2\n",
        "n = 1\n",
        "T1 = 300\n",
        "R = 8.314\n",
        "\n",
        "P1 = (R*T1*n)/V\n",
        "\n",
        "P2 = P1*2\n",
        "\n",
        "T2 = T1*P2/P1\n",
        "\n",
        "print(f\"La nueva temperatura seria: {T2} K\")"
      ],
      "metadata": {
        "colab": {
          "base_uri": "https://localhost:8080/"
        },
        "id": "wM0B5TOEQW-1",
        "outputId": "2265a3c0-51bf-408e-a91e-c198cdfc1a04"
      },
      "execution_count": null,
      "outputs": [
        {
          "output_type": "stream",
          "name": "stdout",
          "text": [
            "La nueva temperatura seria: 600.0 K\n"
          ]
        }
      ]
    },
    {
      "cell_type": "code",
      "source": [
        "#6.3. Si un recipiente de 4 litros contiene 3 moles de un gas a 400 K, ¿cuál será la presión si el\n",
        "#volumen se reduce a 2 litros a temperatura constante?\n",
        "\n",
        "V1 = 4\n",
        "n = 3\n",
        "T = 400\n",
        "V2 = 2\n",
        "R = 8.314\n",
        "\n",
        "P1 = (n*R*T)/V\n",
        "\n",
        "P2 = P1*V1/V2\n",
        "\n",
        "print(f\"La nueva presion seria: {round(P2/1000,3)} kPa\")"
      ],
      "metadata": {
        "colab": {
          "base_uri": "https://localhost:8080/"
        },
        "id": "PU_xpRTTRQ2V",
        "outputId": "b8d5b616-0cf2-4a17-bedd-61f71465902b"
      },
      "execution_count": null,
      "outputs": [
        {
          "output_type": "stream",
          "name": "stdout",
          "text": [
            "La nueva presion seria: 3.991 kPa\n"
          ]
        }
      ]
    },
    {
      "cell_type": "markdown",
      "source": [
        "##Pregunta 7. Ley de Charles"
      ],
      "metadata": {
        "id": "QjE-s1oDBd9i"
      }
    },
    {
      "cell_type": "code",
      "source": [
        "#7.1. Un globo se llena con 2 moles de gas a 25 °C. Si el volumen inicial es de 5 litros, ¿cuál será el\n",
        "#volumen a 50 °C, manteniendo constante la presión?\n",
        "\n",
        "n = 2\n",
        "Tc1 = 25\n",
        "V1 = 5\n",
        "Tc2 = 50\n",
        "\n",
        "Tk1 = Tc1 + 273\n",
        "Tk2 = Tc2 + 273\n",
        "\n",
        "V2 = V1*Tk2/Tk1\n",
        "\n",
        "print(f\"El volumen a 50°C seria: {round(V2,3)} L\")"
      ],
      "metadata": {
        "colab": {
          "base_uri": "https://localhost:8080/"
        },
        "id": "n1ynvkSITDNG",
        "outputId": "f31336de-1493-44aa-caf9-0d968bc5e426"
      },
      "execution_count": null,
      "outputs": [
        {
          "output_type": "stream",
          "name": "stdout",
          "text": [
            "El volumen a 50°C seria: 5.419 L\n"
          ]
        }
      ]
    },
    {
      "cell_type": "code",
      "source": [
        "#7.2. Si un gas ocupa un volumen de 2 litros a 0 °C, ¿cuál será el volumen a 100 °C si la presión se\n",
        "#mantiene constante?\n",
        "\n",
        "V1 = 2\n",
        "Tc1 = 0\n",
        "Tc2= 100\n",
        "\n",
        "Tk1 = Tc1 + 273\n",
        "Tk2 = Tc2 + 273\n",
        "\n",
        "V2 = V1*Tk2/Tk1\n",
        "\n",
        "print(f\"El volumen a 100°C seria: {round(V2,3)} L\")"
      ],
      "metadata": {
        "colab": {
          "base_uri": "https://localhost:8080/"
        },
        "id": "XKb11VXeT9d_",
        "outputId": "8e7e84a5-e7f0-429a-8cfe-eb4a6175bc4d"
      },
      "execution_count": null,
      "outputs": [
        {
          "output_type": "stream",
          "name": "stdout",
          "text": [
            "El volumen a 100°C seria: 2.733 L\n"
          ]
        }
      ]
    },
    {
      "cell_type": "markdown",
      "source": [
        "##Pregunta 8. Ley de Boyle-Mariotte"
      ],
      "metadata": {
        "id": "iAOXVKr0Bm5q"
      }
    },
    {
      "cell_type": "code",
      "source": [
        "#8.1. Un gas ocupa 2 litros a una presión de 3 atmósferas. Si se comprime a 1 litro, ¿cuál será la\n",
        "#nueva presión a temperatura constante?\n",
        "\n",
        "V1 = 2\n",
        "P1 = 3\n",
        "V2 = 1\n",
        "\n",
        "P2 = P1*V1/V2\n",
        "\n",
        "print(f\"La nueva presion seria: {P2} atm\")"
      ],
      "metadata": {
        "colab": {
          "base_uri": "https://localhost:8080/"
        },
        "id": "vVGX0YyJ6Oua",
        "outputId": "7e479d1d-f816-4dfc-b8a1-55465f357fbc"
      },
      "execution_count": null,
      "outputs": [
        {
          "output_type": "stream",
          "name": "stdout",
          "text": [
            "La nueva presion seria: 6.0 atm\n"
          ]
        }
      ]
    },
    {
      "cell_type": "code",
      "source": [
        "#8.2. Si un gas a 2 atmósferas de presión ocupa un volumen de 10 litros, ¿cuál sería el nuevo\n",
        "#volumen si la presión se duplica?\n",
        "\n",
        "P1 = 2\n",
        "V1 = 10\n",
        "P2 = P1*2\n",
        "\n",
        "V2 = P1*V1/P2\n",
        "\n",
        "print(f\"El nuevo volumen seria: {V2} L\")"
      ],
      "metadata": {
        "colab": {
          "base_uri": "https://localhost:8080/"
        },
        "id": "UcF8uCwy7cn6",
        "outputId": "5e699bd9-cd73-4990-f0f1-7c5d68753ceb"
      },
      "execution_count": null,
      "outputs": [
        {
          "output_type": "stream",
          "name": "stdout",
          "text": [
            "El nuevo volumen seria: 5.0 L\n"
          ]
        }
      ]
    },
    {
      "cell_type": "markdown",
      "source": [
        "##Pregunta 9. Ley de las presiones parciales de Dalton"
      ],
      "metadata": {
        "id": "f8deP9FUBqvS"
      }
    },
    {
      "cell_type": "code",
      "source": [
        "#9.1. Un recipiente contiene oxígeno (O2) y nitrógeno (N2) a una presión total de 3 atmósferas. Si\n",
        "#la presión parcial de O2 es de 1 atmósfera, ¿cuál es la presión parcial de N2?\n",
        "\n",
        "Ptotal = 3\n",
        "PparcialO2 = 1\n",
        "\n",
        "PparcialN2 = Ptotal - PparcialO2\n",
        "\n",
        "print(f\"La presion parcial de N2 es {PparcialN2} atm\")"
      ],
      "metadata": {
        "colab": {
          "base_uri": "https://localhost:8080/"
        },
        "id": "LZfhXE2Z8PED",
        "outputId": "af9ac53c-cbbd-4877-d98a-d228541e8f87"
      },
      "execution_count": null,
      "outputs": [
        {
          "output_type": "stream",
          "name": "stdout",
          "text": [
            "La presion parcial de N2 es 2 atm\n"
          ]
        }
      ]
    },
    {
      "cell_type": "code",
      "source": [
        "#9.2. En un recipiente, la presión parcial de hidrógeno (H2) es de 0.2 atmósferas, la del oxígeno\n",
        "#(O2) es de 0.5 atmósferas y la del nitrógeno (N2) es de 0.3 atmósferas. ¿Cuál es la presión total\n",
        "#en el recipiente?\n",
        "\n",
        "PparcialH2 = 0.2\n",
        "PparcialO2 = 0.5\n",
        "PparcialN2 = 0.3\n",
        "\n",
        "Ptotal = PparcialH2 + PparcialO2 + PparcialN2\n",
        "\n",
        "print(f\"La presion total en el recipiente es: {Ptotal} atm\")"
      ],
      "metadata": {
        "colab": {
          "base_uri": "https://localhost:8080/"
        },
        "id": "toh3gmZbBw9V",
        "outputId": "38b3b0e8-43f4-487b-ff38-ef3433bf7453"
      },
      "execution_count": null,
      "outputs": [
        {
          "output_type": "stream",
          "name": "stdout",
          "text": [
            "La presion total en el recipiente es: 1.0 atm\n"
          ]
        }
      ]
    },
    {
      "cell_type": "markdown",
      "source": [
        "##Pregunta 10. Gases Reales"
      ],
      "metadata": {
        "id": "b0aips6RCCNi"
      }
    },
    {
      "cell_type": "code",
      "source": [
        "#10.1. Si 2 moles de un gas real ocupan 3 litros a 300 K y 2 atmósferas de presión, ¿cuál es el factor\n",
        "#de compresibilidad (Z) del gas?\n",
        "\n",
        "n = 2\n",
        "L = 3\n",
        "T = 300\n",
        "P = 2\n",
        "R = 0.082\n",
        "\n",
        "Z = (P*V)/(n*R*T)\n",
        "\n",
        "print(f\"El factor de compresibilidad del gas seria: {round(Z,3)}\")"
      ],
      "metadata": {
        "colab": {
          "base_uri": "https://localhost:8080/"
        },
        "id": "u8XOI5tI9d3q",
        "outputId": "f75e0de2-c882-496a-d9c1-3357b27ff4c6"
      },
      "execution_count": null,
      "outputs": [
        {
          "output_type": "stream",
          "name": "stdout",
          "text": [
            "El factor de compresibilidad del gas seria: 0.667\n"
          ]
        }
      ]
    },
    {
      "cell_type": "code",
      "source": [
        "#10.2. Un gas real se encuentra en un recipiente de 5 litros a 350 K y 4 atmósferas de presión.\n",
        "#Calcular el factor de compresibilidad (Z) del gas en estas condiciones.\n",
        "\n",
        "V = 5\n",
        "T = 350\n",
        "P = 4\n",
        "R = 0.082\n",
        "\n",
        "Z = (P*V)/(R*T)\n",
        "\n",
        "print(f\"El factor de compresibilidad del gas, considerando que tenemos 1 mol del mismo, seria: {round(Z,3)}\")"
      ],
      "metadata": {
        "colab": {
          "base_uri": "https://localhost:8080/"
        },
        "id": "1i_9lDVc-pex",
        "outputId": "8a5400c9-d6fb-4252-bc4f-a10bff2c2a60"
      },
      "execution_count": null,
      "outputs": [
        {
          "output_type": "stream",
          "name": "stdout",
          "text": [
            "El factor de compresibilidad del gas, considerando que tenemos 1 mol del mismo, seria: 0.697\n"
          ]
        }
      ]
    }
  ]
}