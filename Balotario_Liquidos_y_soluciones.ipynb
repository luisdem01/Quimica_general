{
  "nbformat": 4,
  "nbformat_minor": 0,
  "metadata": {
    "colab": {
      "provenance": [],
      "authorship_tag": "ABX9TyPsgZY2wPYtMoZiZ5wCog57",
      "include_colab_link": true
    },
    "kernelspec": {
      "name": "python3",
      "display_name": "Python 3"
    },
    "language_info": {
      "name": "python"
    }
  },
  "cells": [
    {
      "cell_type": "markdown",
      "metadata": {
        "id": "view-in-github",
        "colab_type": "text"
      },
      "source": [
        "<a href=\"https://colab.research.google.com/github/luisdem01/Quimica_general/blob/main/Balotario_Liquidos_y_soluciones.ipynb\" target=\"_parent\"><img src=\"https://colab.research.google.com/assets/colab-badge.svg\" alt=\"Open In Colab\"/></a>"
      ]
    },
    {
      "cell_type": "markdown",
      "source": [
        "#Líquidos y soluciones\n",
        "Alumno: Angel Luis Kallpa De la Cruz Meza"
      ],
      "metadata": {
        "id": "iJLSZYD7GZfK"
      }
    },
    {
      "cell_type": "markdown",
      "source": [
        "##Fuerzas intermoleculares"
      ],
      "metadata": {
        "id": "rnMddaD-GhBa"
      }
    },
    {
      "cell_type": "markdown",
      "source": [
        "###11.1 Proponga un ejemplo para cada tipo de fuerza intermolecular: interacción dipolo-dipolo, interacción dipolo-dipolo inducido, interacción ion-dipolo, fuerzas de dispersión y fuerzas de Van der Waals"
      ],
      "metadata": {
        "id": "_Z453BJXRYXo"
      }
    },
    {
      "cell_type": "markdown",
      "source": [
        "a) Interacción dipolo-dipolo: La molécula de cloruro de hidrógeno (HCl) presenta este tipo de interacción debido a que tiene momento dipolar permanente por la diferencia de electronegatividad.\n",
        "\n",
        "b) Interacción dipolo-dipolo inducido: Un ejemplo puede ser la interacción entre una molécula de agua (H2O) y una molécula de oxígeno (O2) debido a que la molécula polar de agua induce un momento dipolar en la molécula no polar de oxígeno.\n",
        "\n",
        "c) Interacción ion-dipolo: Este tipo de interacción ocurre entre un ion y el extremo polar de una molécula. Un ejemplo sería la interacción entre un ion sodio (Na+) y una molécula de agua (H2O).\n",
        "\n",
        "d) fuerzas de dispersión: También conocidas como fuerzas de London, estas ocurren entre todas las moléculas, debido a las fluctuaciones momentáneas en la distribución electrónica. Un ejemplo sería la interacción entre dos átomos de helio (He)\n",
        "\n",
        "e) Fuerzas de Van der Waals: Se usan para referirse a las fuerzas que actúan entre átomos y moléculas no polares. Un ejemplo sería la interacción entre dos moléculas de metano (CH4).\n",
        "\n",
        "\n",
        "\n"
      ],
      "metadata": {
        "id": "1IDqQUoVRbzB"
      }
    },
    {
      "cell_type": "markdown",
      "source": [
        "###11.3 Explique la diferencia entre un momento dipolar temporal y momento dipolar permanente."
      ],
      "metadata": {
        "id": "CCFVBZuqJMhJ"
      }
    },
    {
      "cell_type": "markdown",
      "source": [
        "El momento dipolar es la medida de la separación entre cargas positivas y negativas, este puede ser temporal o permanente.\n",
        "\n",
        "En el caso del momento dipolar este se presenta en moléculas polares donde hay una separación neta y constante de cargas positivas y negativas.\n",
        "\n",
        "En cambio, el momento dipolar temporal se presenta en moléculas no polares debido a la fluctuación de los electrones alrededor del núcleo. Estas fluctuaciones pueden generar una separación momentanea de cargas, creando un momento dipolar temporal."
      ],
      "metadata": {
        "id": "X4Hkkf2qKtYy"
      }
    },
    {
      "cell_type": "markdown",
      "source": [
        "###11.4 Mencione alguna evidencia de que todos los átomos y moléculas ejercen  entre sí fuerzas de atracción."
      ],
      "metadata": {
        "id": "6XgXMUwUM0xA"
      }
    },
    {
      "cell_type": "markdown",
      "source": [
        "Una evidencia de esto puede ser la Teoría electromagnética, esta teoría nos dice que los electrones con carga negativa son atraidos por los núcleos con carga positivas, debido a las fuerzas electromagnéticas entre cargas opuestas.\n",
        "\n",
        "Además, también existen fuerzas de atracción entre átomos y moléculas diferentes. Algunos ejemplos de estas fuerzas son las de Van der Waals, fuerzas dipolo-dipolo, fuerzas de London, etc."
      ],
      "metadata": {
        "id": "6IKyTqovNES4"
      }
    },
    {
      "cell_type": "markdown",
      "source": [
        "###11.5 ¿Qué propiedades físicas se deberían considerar al comparar la intensidad de las fuerzas intermoleculares en los sólidos y líquidos?"
      ],
      "metadata": {
        "id": "bgy0w8HXPLT4"
      }
    },
    {
      "cell_type": "markdown",
      "source": [
        "Algunas propiedades físicas que debemos considerar son:\n",
        "\n",
        "* Punto de ebullición y fusión: estas propiedades nos indican la magnitud de las fuerzas intermoleculares.\n",
        "\n",
        "* Viscosidad: Esta es una medida de la resistencia de un líquido a fluir. Los líquidos con fuerzas intermoleculares fuertes suelen tener alta viscosidad.\n",
        "\n",
        "* Solubilidad: La solubilidad en agua es variable y depende principalmente del tipo de fuerza intermolecular presente."
      ],
      "metadata": {
        "id": "MasZSQMNPWkR"
      }
    },
    {
      "cell_type": "markdown",
      "source": [
        "###11.6 ¿Cuáles elementos pueden participar en los enlaces de hidrógeno?, ¿Por qué el hidrógeno es único en este tipo de interacción?"
      ],
      "metadata": {
        "id": "znOX7F7sGmmC"
      }
    },
    {
      "cell_type": "markdown",
      "source": [
        "Los elementos que participan en este tipo de enlace son: Hidrógeno, Oxígeno, Nitrógeno, Azufre y algunos Halógenos.\n",
        "\n",
        "El Hidrógeno es único porque en los enlaces solo tiene 1 electron, además tiene facilidad de ionizarse positiva (H+) o negativamente (H-) y finalmente este elemento es el único que tiene la capacidad de formar puentes de Hidrógeno."
      ],
      "metadata": {
        "id": "Sd_aYqwjHSyT"
      }
    },
    {
      "cell_type": "markdown",
      "source": [
        "## Propiedades de los líquidos"
      ],
      "metadata": {
        "id": "H_zDjG4xIuvi"
      }
    },
    {
      "cell_type": "markdown",
      "source": [
        "###11.21 ¿Por qué los líquidos, a diferencia de los gases, son prácticamente incompresibles?"
      ],
      "metadata": {
        "id": "DtT4zTecMQ85"
      }
    },
    {
      "cell_type": "markdown",
      "source": [
        "Los líquidos son prácticamente incompresibles debido a la forma en que están organizadas sus partículas. En un líquido, las partículas están muy juntas, lo que significa que hay muy poco espacio entre ellas para que se compriman aún más."
      ],
      "metadata": {
        "id": "YfCdFmhVULMJ"
      }
    },
    {
      "cell_type": "markdown",
      "source": [
        "###11.23 A pesar  de que el acero inoxidable es mucho más denso que el agua, una navaja de afeitar es capaz de flotar en el agua. ¿Por qué?"
      ],
      "metadata": {
        "id": "ReDwUx2VUYyw"
      }
    },
    {
      "cell_type": "markdown",
      "source": [
        "Una navaja de afeitar puede flotar en el agua a pesar de que el acero inoxidable es más denso que el agua debido a dos fenómenos: la tensión superficial del agua y el principio de Arquímedes.\n",
        "\n",
        "La tensión superficial es un efecto que se produce en la superficie del agua donde las moléculas de agua se mantienen fuertemente unidas, creando una especie de “piel” en la superficie. Cuando se coloca cuidadosamente una navaja de afeitar en el agua, esta “piel” puede soportar el peso de la navaja, permitiéndole flotar.\n",
        "\n",
        "El principio de Arquímedes establece que cualquier objeto sumergido en un fluido experimenta una fuerza ascendente igual al peso del fluido desplazado por el objeto. En el caso de la navaja de afeitar, aunque es densa, su forma plana y amplia desplaza suficiente agua para crear una fuerza ascendente que equilibra su peso"
      ],
      "metadata": {
        "id": "AoTlxTyaVD6X"
      }
    },
    {
      "cell_type": "markdown",
      "source": [
        "###11.24 Utilice el agua y el mercurio como ejemplos para explicar la adhesión y cohesión."
      ],
      "metadata": {
        "id": "bnzSyw9fVmAY"
      }
    },
    {
      "cell_type": "markdown",
      "source": [
        "La adhesión se refiere a la atracción entre diferentes tipos de moléculas, mientras que la cohesión se refiere a la atracción entre moléculas similares.\n",
        "\n",
        "En el caso del agua:\n",
        "\n",
        "* La adhesión del agua se puede observar cuando el agua se adhiere a las superficies de otros materiales, como cuando el agua moja el vidrio o sube por un tubo capilar. Esto se debe a las fuerzas de atracción entre las moléculas de agua y las moléculas del material.\n",
        "\n",
        "* La cohesión del agua es responsable de fenómenos como la tensión superficial, que permite a los insectos caminar sobre el agua. Esto se debe a las fuertes fuerzas de atracción entre las moléculas de agua.\n",
        "\n",
        "En el caso del mercurio:\n",
        "\n",
        "* La adhesión del mercurio es relativamente débil en comparación con su cohesión. Esto se puede observar cuando el mercurio no se adhiere a las paredes de un tubo de vidrio y forma gotas redondas.\n",
        "\n",
        "* La cohesión del mercurio es muy fuerte debido a las fuerzas de atracción entre las moléculas de mercurio. Esto da como resultado una alta tensión superficial que mantiene al mercurio en forma de gotas redondas."
      ],
      "metadata": {
        "id": "Bi4yf7TmWFuI"
      }
    },
    {
      "cell_type": "markdown",
      "source": [
        "###11.27 ¿Qué es la viscosidad? ¿Cuál es la relación entre las fuerzas intermoleculares y la viscosidad?"
      ],
      "metadata": {
        "id": "4yp4jfy3WhI4"
      }
    },
    {
      "cell_type": "markdown",
      "source": [
        "La viscosidad se refiere a la resistencia que poseen algunos líquidos durante su fluidez y deformación, mientras más resistencia posee un líquido para fluir y deformarse, más viscoso es.\n",
        "\n",
        "La viscosidad está estrechamente relacionada con las fuerzas intermoleculares. A mayor fuerza de adherencia de las moléculas, mayor viscosidad. Por lo tanto, a mayor viscosidad, más resistencia opondrá el fluido a su deformación."
      ],
      "metadata": {
        "id": "HLsuzVxAXFIw"
      }
    },
    {
      "cell_type": "markdown",
      "source": [
        "##Soluciones"
      ],
      "metadata": {
        "id": "dwx48zkaXcM_"
      }
    },
    {
      "cell_type": "markdown",
      "source": [
        "###12.3 Explica brevemente el proceso de disolución a nivel molecular. Utilice como ejemplo la disolución de un sólido en un líquido."
      ],
      "metadata": {
        "id": "IwH9n4AoXfAQ"
      }
    },
    {
      "cell_type": "markdown",
      "source": [
        "* Separación de las partículas del soluto y del solvente: Las partículas del soluto y del solvente deben separarse unas de otras. Esto requiere energía para superar las fuerzas intermoleculares que mantienen unidas las partículas de ambos.\n",
        "\n",
        "* Formación de nuevas interacciones entre el soluto y el disolvente: Finalmente, las partículas del soluto se mezclan con las del disolvente, formando nuevas interacciones intermoleculares. Esto libera energía.\n",
        "\n",
        "Por ejemplo, cuando se disuelve azúcar (sacarosa) en agua, las moléculas de sacarosa se separan y se distribuyen uniformemente entre las moléculas de agua."
      ],
      "metadata": {
        "id": "B9X5FeRwX9sX"
      }
    },
    {
      "cell_type": "markdown",
      "source": [
        "###12.4 A partir de las fuerzas intermoleculares, explique el significado de \"lo semejante disuelve lo semejante\"."
      ],
      "metadata": {
        "id": "qe0X_9TWXxzX"
      }
    },
    {
      "cell_type": "markdown",
      "source": [
        "El término “lo semejante disuelve lo semejante” se refiere a la idea de que las sustancias con tipos similares de fuerzas intermoleculares tienden a disolverse entre sí.\n",
        "\n",
        "Por ejemplo, el agua es una molécula polar y puede formar enlaces de hidrógeno, por lo que tiende a disolver bien otras sustancias polares o sustancias que pueden formar enlaces de hidrógeno, como el azúcar o el etanol. Por otro lado, el aceite es una sustancia no polar y no puede formar enlaces de hidrógeno, por lo que no se disuelve bien en agua, pero sí se disuelve bien en otras sustancias no polares."
      ],
      "metadata": {
        "id": "jMRNZpJLZHIH"
      }
    },
    {
      "cell_type": "markdown",
      "source": [
        "###12.7 Explique por qué el proceso de disolución invariablemente conduce a un aumento del desorden."
      ],
      "metadata": {
        "id": "yqQ88K10ZgBn"
      }
    },
    {
      "cell_type": "markdown",
      "source": [
        "El proceso de disolución conduce a un aumento del desorden, o en términos científicos, a un aumento de la entropía, debido a la forma en que las partículas del soluto se dispersan entre las partículas del disolvente.\n",
        "\n",
        "En un estado no disuelto, las partículas del soluto están ordenadas en una estructura definida. Sin embargo, cuando el soluto se disuelve en un disolvente, sus partículas se separan y se distribuyen al azar entre las partículas del disolvente. Este proceso de dispersión aumenta el desorden o la entropía del sistema"
      ],
      "metadata": {
        "id": "aM3Js-u5XxvO"
      }
    },
    {
      "cell_type": "markdown",
      "source": [
        "###12.9 ¿Por qué el naftaleno (C8H10) es más soluble en benceno que el CsF?"
      ],
      "metadata": {
        "id": "pM4wpGphbig_"
      }
    },
    {
      "cell_type": "markdown",
      "source": [
        "El naftaleno es más soluble en benceno que el CsF (fluoruro de cesio) debido a las diferencias en las fuerzas intermoleculares en estas sustancias.\n",
        "\n",
        " Las moléculas no polares de naftaleno forman un sólido molecular blando, con fuerzas intermoleculares débiles. Las mismas fuerzas se encuentran en el benceno (líquido), causando que el naftaleno se disuelva con facilidad. Esto se debe al principio de “lo semejante disuelve lo semejante”.\n",
        "\n",
        " Por otro lado, el CsF es un sólido iónico. Las atracciones ion-ion son muy fuertes como para ser superadas en el proceso de disolución en benceno. La interacción ion-dipolo inducido es muy débil como para estabilizar el ion"
      ],
      "metadata": {
        "id": "iwQgXZovcVBr"
      }
    },
    {
      "cell_type": "markdown",
      "source": [
        "##Unidades de concentración"
      ],
      "metadata": {
        "id": "Adopw4P1daV_"
      }
    },
    {
      "cell_type": "markdown",
      "source": [
        "###12.15 Calcule el porcentaje en masa de soluto en cada una de las siguientes disoluciones acuosas: a) 5,50 g de NaBr en 78,2 g de disolución, b) 31,0 g de KCl  en 152 g de agua, c) 4,5 g de tolueno en 29 g de benceno."
      ],
      "metadata": {
        "id": "7aqmgJUnddDW"
      }
    },
    {
      "cell_type": "code",
      "source": [
        "soluto_a = 5.5\n",
        "disolucion_a =78.2\n",
        "\n",
        "porcentaje_masa_a = soluto_a/disolucion_a*100\n",
        "print(f\"a) {round(porcentaje_masa_a,2)}%\")\n",
        "\n",
        "soluto_b = 31\n",
        "disolucion_b = 152 + 31\n",
        "\n",
        "porcentaje_masa_b = soluto_b/disolucion_b*100\n",
        "print(f\"b) {round(porcentaje_masa_b,2)}%\")\n",
        "\n",
        "soluto_c = 4.5\n",
        "disolucion_c = 29 + 4.5\n",
        "\n",
        "porcentaje_masa_c = soluto_c/disolucion_c*100\n",
        "print(f\"c) {round(porcentaje_masa_c,2)}%\")"
      ],
      "metadata": {
        "colab": {
          "base_uri": "https://localhost:8080/"
        },
        "id": "PNuYjiUud-JO",
        "outputId": "fa81c843-f54c-4e58-f37b-26b0a28ccd25"
      },
      "execution_count": 5,
      "outputs": [
        {
          "output_type": "stream",
          "name": "stdout",
          "text": [
            "a) 7.03%\n",
            "b) 16.94%\n",
            "c) 13.43%\n"
          ]
        }
      ]
    },
    {
      "cell_type": "markdown",
      "source": [
        "###12.16 Calcule la cantidad de agua (en gramos) que se debe agregar a: a)5,00 g de urea (NH2)2CO para preparar una disolución al 16.2% en masa, b)26.2 g de MgCl2 para preparar una disolución al 1.5% en masa."
      ],
      "metadata": {
        "id": "lMc3uJxBhFvu"
      }
    },
    {
      "cell_type": "code",
      "source": [
        "masa_urea = 5\n",
        "porcentaje_masa_a = 0.162\n",
        "\n",
        "masa_agua_a = (porcentaje_masa_a*masa_urea)/(1-porcentaje_masa_a)\n",
        "print(f\"a) {round(masa_agua_a,2)} g\")\n",
        "\n",
        "masa_MgCl2 = 26.2\n",
        "porcentaje_masa_b = 0.015\n",
        "\n",
        "masa_agua_b = (porcentaje_masa_b*masa_MgCl2)/(1-porcentaje_masa_b)\n",
        "print(f\"b) {round(masa_agua_b,2)} g\")"
      ],
      "metadata": {
        "colab": {
          "base_uri": "https://localhost:8080/"
        },
        "id": "pldv7OCehbWA",
        "outputId": "3bb0fb63-36e0-4a59-d277-1bbfee9e79b6"
      },
      "execution_count": 11,
      "outputs": [
        {
          "output_type": "stream",
          "name": "stdout",
          "text": [
            "a) 0.97 g\n",
            "b) 0.4 g\n"
          ]
        }
      ]
    },
    {
      "cell_type": "markdown",
      "source": [
        "###12.17 Calcula la molalidad de cada una de las siguientes disoluciones: a) 14.3 g de sacarosa (C12H22O11) en 676 g de agua, b) 7.20 moles de etilenglicol (C2H6O2) en 3546 g de agua."
      ],
      "metadata": {
        "id": "IPt6Zaoqjv3e"
      }
    },
    {
      "cell_type": "code",
      "source": [
        "masa_molar_sacarosa = 12*12 + 1*22 + 16*11\n",
        "masa_sacarosa = 14.3\n",
        "masa_agua_a = 676/1000\n",
        "\n",
        "moles_sacarosa = masa_sacarosa/masa_molar_sacarosa\n",
        "\n",
        "molalidad_a = moles_sacarosa/masa_agua_a\n",
        "print(f\"a) {round(molalidad_a,2)} mol/kg\")\n",
        "\n",
        "moles_etilenglicol = 7.2\n",
        "masa_agua_b = 3546/1000\n",
        "\n",
        "molalidad_b = moles_etilenglicol/masa_agua_b\n",
        "print(f\"a) {round(molalidad_b,2)} mol/kg\")"
      ],
      "metadata": {
        "colab": {
          "base_uri": "https://localhost:8080/"
        },
        "id": "aOeuBh2KkE7e",
        "outputId": "4b084142-3d87-4a94-e3b9-a66e145dbab6"
      },
      "execution_count": 16,
      "outputs": [
        {
          "output_type": "stream",
          "name": "stdout",
          "text": [
            "a) 0.06 mol/kg\n",
            "a) 2.03 mol/kg\n"
          ]
        }
      ]
    },
    {
      "cell_type": "markdown",
      "source": [
        "###12.18 Calcule la molalidad de cada una de las siguientes disoluciones acuosas: a) disolución de NaCl 2.50 M (densidad de la disolución = 1.08 g/mL), b) disolución de KBr al 48.2% en masa."
      ],
      "metadata": {
        "id": "NOhMTnacmuZO"
      }
    },
    {
      "cell_type": "code",
      "source": [
        "masa_molar_NaCl = 23*1 + 35.45*1\n",
        "molaridad_NaCl = 2.5\n",
        "volumen_NaCl = 1\n",
        "n_NaCl = molaridad_NaCl*volumen_NaCl\n",
        "\n",
        "densidad_disolucion = 1.08\n",
        "\n",
        "masa_disolucion = densidad_disolucion*1000*1\n",
        "\n",
        "masa_solvente_a = masa_disolucion - n_NaCl*masa_molar_NaCl\n",
        "\n",
        "molalidad_a = n_NaCl/(masa_solvente_a/1000)\n",
        "print(f\"a) {round(molalidad_a,2)} mol/kg\")\n",
        "\n",
        "masa_KBr = 482\n",
        "masa_solvente_b = 1000 - masa_KBr\n",
        "\n",
        "masa_molar_KBr = 39*1 + 80*1\n",
        "\n",
        "n_KBr = masa_KBr/masa_molar_KBr\n",
        "\n",
        "molalidad_b = n_KBr/(masa_solvente_b/1000)\n",
        "print(f\"b) {round(molalidad_b,2)} mol/kg\")"
      ],
      "metadata": {
        "colab": {
          "base_uri": "https://localhost:8080/"
        },
        "id": "iAJALfilorI9",
        "outputId": "cd4ed765-6cc2-4295-8a6c-8cce97e02448"
      },
      "execution_count": 31,
      "outputs": [
        {
          "output_type": "stream",
          "name": "stdout",
          "text": [
            "a) 2.68 mol/kg\n",
            "b) 7.82 mol/kg\n"
          ]
        }
      ]
    },
    {
      "cell_type": "markdown",
      "source": [
        "###12.19 Calcule la molalidad de cada una de las siguientes disoluciones acuosas: a) disolución de azúcar (C12H22O11) 1.22 M (densidad de la disolución = 1.12 g/mL), b) disolución de NaOH 0.87 M (densidad de la disolución = 1.04 g/mL), c) disolución de NaHCO3 5.24 M (densidad de la disolución = 1.19 g/mL)."
      ],
      "metadata": {
        "id": "jxo9FtmM31vT"
      }
    },
    {
      "cell_type": "code",
      "source": [
        "masa_molar_azucar = 12*12 + 1*22 + 16*11\n",
        "molaridad_azucar = 1.22\n",
        "volumen_azucar = 1\n",
        "n_azucar = molaridad_azucar*volumen_azucar\n",
        "\n",
        "densidad_disolucion_a = 1.12\n",
        "\n",
        "masa_disolucion_a = densidad_disolucion_a*1000*1\n",
        "\n",
        "masa_solvente_a = masa_disolucion_a - n_azucar*masa_molar_azucar\n",
        "\n",
        "molalidad_a = n_azucar/(masa_solvente_a/1000)\n",
        "print(f\"a) {round(molalidad_a,2)} mol/kg\")\n",
        "\n",
        "masa_molar_NaOH = 23*1 + 16*1 + 1*1\n",
        "molaridad_NaOH = 0.87\n",
        "volumen_NaOH = 1\n",
        "n_NaOH = molaridad_NaOH*volumen_NaOH\n",
        "\n",
        "densidad_disolucion_b = 1.04\n",
        "\n",
        "masa_disolucion_b = densidad_disolucion_b*1000*1\n",
        "\n",
        "masa_solvente_b = masa_disolucion_b - n_NaOH*masa_molar_NaOH\n",
        "\n",
        "molalidad_b = n_NaOH/(masa_solvente_b/1000)\n",
        "print(f\"a) {round(molalidad_b,2)} mol/kg\")\n",
        "\n",
        "masa_molar_NaHCO3 = 23*1 + 1*1 + 12*1 + 16*3\n",
        "molaridad_NaHCO3 = 5.24\n",
        "volumen_NaHCO3 = 1\n",
        "n_NaHCO3 = molaridad_NaHCO3*volumen_NaHCO3\n",
        "\n",
        "densidad_disolucion_c = 1.19\n",
        "\n",
        "masa_disolucion_c = densidad_disolucion_c*1000*1\n",
        "\n",
        "masa_solvente_c = masa_disolucion_c - n_NaHCO3*masa_molar_NaHCO3\n",
        "\n",
        "molalidad_c = n_NaHCO3/(masa_solvente_c/1000)\n",
        "print(f\"a) {round(molalidad_c,2)} mol/kg\")"
      ],
      "metadata": {
        "colab": {
          "base_uri": "https://localhost:8080/"
        },
        "id": "9lbsS8wq4Eay",
        "outputId": "f6200a28-a676-4ec3-de7b-9b097756cd47"
      },
      "execution_count": 37,
      "outputs": [
        {
          "output_type": "stream",
          "name": "stdout",
          "text": [
            "a) 1.74 mol/kg\n",
            "a) 0.87 mol/kg\n",
            "a) 6.99 mol/kg\n"
          ]
        }
      ]
    },
    {
      "cell_type": "markdown",
      "source": [
        "###12.22 El ácido sulfúrico concentrado que se utiliza en el laboratorio es H2SO4 al 98.0% en masa. Calcule la molalidad y la molaridad de la disolución ácida. La densidad de la disolución es de 1.83g/mL."
      ],
      "metadata": {
        "id": "T2cRUiE37pDi"
      }
    },
    {
      "cell_type": "code",
      "source": [
        "masa_molar_H2SO4 = 1*2 + 32*1 + 16*4\n",
        "masa_H2SO4 = 980\n",
        "masa_solvente = 1000 - masa_H2SO4\n",
        "densidad_disolucion = 1.83\n",
        "\n",
        "n_H2SO4 = masa_H2SO4/masa_molar_H2SO4\n",
        "\n",
        "molalidad = n_H2SO4/(masa_solvente/1000)\n",
        "print(f\"Molalidad: {round(molalidad,2)} mol/kg\")\n",
        "\n",
        "volumen_disolucion = 1000/(1.83*1000)\n",
        "\n",
        "molaridad = n_H2SO4/volumen_disolucion\n",
        "print(f\"Molaridad: {round(molaridad,2)} mol/L\")"
      ],
      "metadata": {
        "colab": {
          "base_uri": "https://localhost:8080/"
        },
        "id": "myyHKD7j8XsS",
        "outputId": "375bd174-e19b-4135-8f00-a501fefbda03"
      },
      "execution_count": 43,
      "outputs": [
        {
          "output_type": "stream",
          "name": "stdout",
          "text": [
            "Molalidad: 500.0 mol/kg\n",
            "Molaridad: 18.3 mol/L\n"
          ]
        }
      ]
    },
    {
      "cell_type": "markdown",
      "source": [
        "##Efecto de la temperatura en la solubilidad"
      ],
      "metadata": {
        "id": "kusXqVIu-8KB"
      }
    },
    {
      "cell_type": "markdown",
      "source": [
        "###12.27 Una muestra de 3.20 g de sal se disuelve en 9.10 g de agua para formar una disolución saturada a 25°C. ¿Cuál es la solubilidad (en g de sal/100g de H2O) de la sal?"
      ],
      "metadata": {
        "id": "n6wqxVpT_AMh"
      }
    },
    {
      "cell_type": "code",
      "source": [
        "masa_sal = 3.2\n",
        "masa_agua = 9.1\n",
        "\n",
        "solubilidad = 3.2*100/9.1\n",
        "print(f\"La solubilidad es de {round(solubilidad,2)}g/100g de agua\")"
      ],
      "metadata": {
        "colab": {
          "base_uri": "https://localhost:8080/"
        },
        "id": "J_AlVV2SAJWh",
        "outputId": "0cd272a2-12b5-4120-913e-17d4254d11ec"
      },
      "execution_count": 44,
      "outputs": [
        {
          "output_type": "stream",
          "name": "stdout",
          "text": [
            "La solubilidad es de 35.16g/100g de agua\n"
          ]
        }
      ]
    }
  ]
}