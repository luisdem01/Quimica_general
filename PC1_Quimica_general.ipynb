{
  "nbformat": 4,
  "nbformat_minor": 0,
  "metadata": {
    "colab": {
      "provenance": [],
      "collapsed_sections": [
        "oR7YeMNLevhX",
        "zlOGfjwi705U",
        "t3kSOXMS3C-H",
        "l-ROkSx-3Ktu",
        "IeF7TWL4LhMh"
      ],
      "authorship_tag": "ABX9TyOiZmHHd6WQsCrPUF8cyWjO",
      "include_colab_link": true
    },
    "kernelspec": {
      "name": "python3",
      "display_name": "Python 3"
    },
    "language_info": {
      "name": "python"
    },
    "widgets": {
      "application/vnd.jupyter.widget-state+json": {
        "2392ff861d8d41a09a6c8b4d6b7e7061": {
          "model_module": "faerun-notebook",
          "model_name": "SmilesDrawerModel",
          "model_module_version": "^0.1.5",
          "state": {
            "_dom_classes": [],
            "_model_module": "faerun-notebook",
            "_model_module_version": "^0.1.5",
            "_model_name": "SmilesDrawerModel",
            "_view_count": null,
            "_view_module": "faerun-notebook",
            "_view_module_version": "^0.1.5",
            "_view_name": "SmilesDrawerView",
            "background": "#1e1e1e",
            "border": true,
            "layout": "IPY_MODEL_b97b2e64663a4175877bbff3ffe2dbf3",
            "options": {
              "scale": 1.25
            },
            "output": "svg",
            "theme": "dark",
            "value": [
              [
                "Rxn",
                "C(C1C(C(C(C(O1)O)O)O)O)O.O=O>>C(=O)=O.O"
              ]
            ]
          }
        },
        "b97b2e64663a4175877bbff3ffe2dbf3": {
          "model_module": "@jupyter-widgets/base",
          "model_name": "LayoutModel",
          "model_module_version": "1.2.0",
          "state": {
            "_model_module": "@jupyter-widgets/base",
            "_model_module_version": "1.2.0",
            "_model_name": "LayoutModel",
            "_view_count": null,
            "_view_module": "@jupyter-widgets/base",
            "_view_module_version": "1.2.0",
            "_view_name": "LayoutView",
            "align_content": null,
            "align_items": null,
            "align_self": null,
            "border": null,
            "bottom": null,
            "display": null,
            "flex": null,
            "flex_flow": null,
            "grid_area": null,
            "grid_auto_columns": null,
            "grid_auto_flow": null,
            "grid_auto_rows": null,
            "grid_column": null,
            "grid_gap": null,
            "grid_row": null,
            "grid_template_areas": null,
            "grid_template_columns": null,
            "grid_template_rows": null,
            "height": null,
            "justify_content": null,
            "justify_items": null,
            "left": null,
            "margin": null,
            "max_height": null,
            "max_width": null,
            "min_height": null,
            "min_width": null,
            "object_fit": null,
            "object_position": null,
            "order": null,
            "overflow": null,
            "overflow_x": null,
            "overflow_y": null,
            "padding": null,
            "right": null,
            "top": null,
            "visibility": null,
            "width": null
          }
        }
      }
    }
  },
  "cells": [
    {
      "cell_type": "markdown",
      "metadata": {
        "id": "view-in-github",
        "colab_type": "text"
      },
      "source": [
        "<a href=\"https://colab.research.google.com/github/luisdem01/Quimica_general/blob/main/PC1_Quimica_general.ipynb\" target=\"_parent\"><img src=\"https://colab.research.google.com/assets/colab-badge.svg\" alt=\"Open In Colab\"/></a>"
      ]
    },
    {
      "cell_type": "markdown",
      "source": [
        "#PC N°1: Materia y clasificación"
      ],
      "metadata": {
        "id": "Se8guXjPxA7r"
      }
    },
    {
      "cell_type": "markdown",
      "source": [
        "##Pregunta 1: Sobre el ABC de python"
      ],
      "metadata": {
        "id": "cBp7t64FA_Kn"
      }
    },
    {
      "cell_type": "code",
      "execution_count": 11,
      "metadata": {
        "id": "Fx5nXY6BwW1s",
        "colab": {
          "base_uri": "https://localhost:8080/"
        },
        "outputId": "ff40eaec-7016-43fb-fb17-5aeb84100b80"
      },
      "outputs": [
        {
          "output_type": "stream",
          "name": "stdout",
          "text": [
            "Version: Python 3.10.12\n",
            "\n",
            "Here is a list of the Python keywords.  Enter any keyword to get more help.\n",
            "\n",
            "False               class               from                or\n",
            "None                continue            global              pass\n",
            "True                def                 if                  raise\n",
            "and                 del                 import              return\n",
            "as                  elif                in                  try\n",
            "assert              else                is                  while\n",
            "async               except              lambda              with\n",
            "await               finally             nonlocal            yield\n",
            "break               for                 not                 \n",
            "\n"
          ]
        }
      ],
      "source": [
        "# Imprime la versión de python que usas y las palabras reservadas de python para esa versión.\n",
        "\n",
        "print(\"Version:\", end=\" \")\n",
        "!python --version\n",
        "\n",
        "help(\"keywords\")"
      ]
    },
    {
      "cell_type": "code",
      "source": [
        "# Crea una matriz de 3x3 e imprime la suma de los elementos en su diagonal (traza).\n",
        "\n",
        "matriz = [[1,2,3], [4,5,6], [7,8,9]]\n",
        "\n",
        "suma = 0\n",
        "\n",
        "for i in range(3):\n",
        "    suma += matriz[i][i]\n",
        "\n",
        "print(f\"Suma de la diagonal: {suma}\")"
      ],
      "metadata": {
        "id": "P5nzSSNg083U",
        "colab": {
          "base_uri": "https://localhost:8080/"
        },
        "outputId": "6d4621c3-e0fd-419b-9b7e-029aef9aabd1"
      },
      "execution_count": 15,
      "outputs": [
        {
          "output_type": "stream",
          "name": "stdout",
          "text": [
            "Suma de la diagonal: 15\n"
          ]
        }
      ]
    },
    {
      "cell_type": "code",
      "source": [
        "# Guarda como variable la masa atómica de los elementos C, H y O, e imprime la masa molecular del etanol.\n",
        "\n",
        "masa_c = 12.011\n",
        "masa_h = 1.00784\n",
        "masa_o = 15.999\n",
        "\n",
        "masa_etanol = masa_c*2 + masa_h*6 + masa_o\n",
        "\n",
        "print(f\"La masa molecular del etanol es: {round(masa_etanol,3)} g/mol\")"
      ],
      "metadata": {
        "id": "r9EGSh2u67gN",
        "colab": {
          "base_uri": "https://localhost:8080/"
        },
        "outputId": "a0b11b51-e988-4cea-c36a-caaee4e50c5f"
      },
      "execution_count": 13,
      "outputs": [
        {
          "output_type": "stream",
          "name": "stdout",
          "text": [
            "La masa molecular del etanol es: 46.068 g/mol\n"
          ]
        }
      ]
    },
    {
      "cell_type": "code",
      "source": [
        "# Busca la temperatura de fusión en Celsius de 5 metales y guárdalos en una lista. Imprime las temperaturas en Kelvin\n",
        "\n",
        "metal = [\"Hierro\",\"Aluminio\",\"Cobre\",\"Plomo\",\"Zinc\"]\n",
        "temperatura = [1538,660.3,1085,327.5,419.5]\n",
        "\n",
        "print(\"Temperatura de fusion en grados celcius:\")\n",
        "for i in range(5):\n",
        "    print(f\"{metal[i]}: {temperatura[i]} °C\")\n",
        "\n",
        "print()\n",
        "print(\"Temperatura de fusion en grados kelvin:\")\n",
        "for j in range(5):\n",
        "    print(f\"{metal[j]}: {temperatura[j]+273} K\")"
      ],
      "metadata": {
        "id": "FhagV4OJ_1V-",
        "colab": {
          "base_uri": "https://localhost:8080/"
        },
        "outputId": "53f1949d-0c6e-4913-b317-b7629a17a42e"
      },
      "execution_count": 16,
      "outputs": [
        {
          "output_type": "stream",
          "name": "stdout",
          "text": [
            "Temperatura de fusion en grados celcius:\n",
            "Hierro: 1538 °C\n",
            "Aluminio: 660.3 °C\n",
            "Cobre: 1085 °C\n",
            "Plomo: 327.5 °C\n",
            "Zinc: 419.5 °C\n",
            "\n",
            "Temperatura de fusion en grados kelvin:\n",
            "Hierro: 1811 K\n",
            "Aluminio: 933.3 K\n",
            "Cobre: 1358 K\n",
            "Plomo: 600.5 K\n",
            "Zinc: 692.5 K\n"
          ]
        }
      ]
    },
    {
      "cell_type": "markdown",
      "source": [
        "##Pregunta 2: Operaciones"
      ],
      "metadata": {
        "id": "oR7YeMNLevhX"
      }
    },
    {
      "cell_type": "markdown",
      "source": [
        "Escribe un programa que lea repetidamente elementos químicos en español hasta que el usuario introduzca “fin”. Una vez se haya introducido “fin”, muestra por pantalla (o sea imprime) el total de elementos ingresados. Si el usuario introduce cualquier otra cosa que no sea un elemento químico, detecta su fallo usando try y except, muestra un mensaje de error y pasa al siguiente elemento."
      ],
      "metadata": {
        "id": "6AszQ3k1e4mH"
      }
    },
    {
      "cell_type": "code",
      "source": [
        "from itertools import count\n",
        "\n",
        "elementos = [\"hidrogeno\",\"carbono\",\"oxigeno\",\"nitrogeno\",\"fosforo\",\"azufre\",\"aluminio\",\"hierro\",\"cloro\",\"yodo\",\"sodio\",\"calcio\",\"potasio\",\n",
        "             \"mercurio\",\"plata\",\"oro\",\"cobre\",\"uranio\",\"argon\",\"zinc\",\"helio\",\"neon\",\"plomo\"]\n",
        "\n",
        "print(f\"Lista de elementos: {elementos}\")\n",
        "print(\"Si quiere que el programa finalize, escriba 'fin'\")\n",
        "print()\n",
        "\n",
        "palabras_verificadas = []\n",
        "num_palabras = 0\n",
        "\n",
        "for i in count(0):\n",
        "    palabra = str(input(\"Ingrese un elemento: \"))\n",
        "    if palabra.lower() in elementos:\n",
        "        palabras_verificadas.append(palabra)\n",
        "        num_palabras += 1\n",
        "    elif palabra.lower() == \"fin\":\n",
        "        break\n",
        "    else:\n",
        "        print(\"Eso no es un elemento, porfavor escriba de nuevo\")\n",
        "\n",
        "if num_palabras > 0:\n",
        "    print()\n",
        "    print(\"Lista de elementos ingresados: \")\n",
        "    for i in range(num_palabras):\n",
        "        print(palabras_verificadas[i])"
      ],
      "metadata": {
        "id": "D4o52zuXe0HH",
        "colab": {
          "base_uri": "https://localhost:8080/"
        },
        "outputId": "44d160eb-31fb-4d12-8b9f-a61c8d7af675"
      },
      "execution_count": 10,
      "outputs": [
        {
          "output_type": "stream",
          "name": "stdout",
          "text": [
            "Lista de elementos: ['hidrogeno', 'carbono', 'oxigeno', 'nitrogeno', 'fosforo', 'azufre', 'aluminio', 'hierro', 'cloro', 'yodo', 'sodio', 'calcio', 'potasio', 'mercurio', 'plata', 'oro', 'cobre', 'uranio', 'argon', 'zinc', 'helio', 'neon', 'plomo']\n",
            "Si quiere que el programa finalize, escriba 'fin'\n",
            "\n",
            "Ingrese un elemento: hidrogeno\n",
            "Ingrese un elemento: Carbono\n",
            "Ingrese un elemento: HeLio\n",
            "Ingrese un elemento: NITROGENO\n",
            "Ingrese un elemento: hola\n",
            "Eso no es un elemento, porfavor escriba de nuevo\n",
            "Ingrese un elemento: ?\n",
            "Eso no es un elemento, porfavor escriba de nuevo\n",
            "Ingrese un elemento: fin\n",
            "\n",
            "Lista de elementos ingresados: \n",
            "hidrogeno\n",
            "Carbono\n",
            "HeLio\n",
            "NITROGENO\n"
          ]
        }
      ]
    },
    {
      "cell_type": "markdown",
      "source": [
        "##Pregunta 3: Conservación de la masa"
      ],
      "metadata": {
        "id": "zlOGfjwi705U"
      }
    },
    {
      "cell_type": "markdown",
      "source": [
        "###Código necesario para generar la imagen"
      ],
      "metadata": {
        "id": "t3kSOXMS3C-H"
      }
    },
    {
      "cell_type": "code",
      "source": [
        "!pip install faerun-notebook==0.1.5b0\n",
        "\n",
        "import ipywidgets as widgets\n",
        "from faerun_notebook import SmilesDrawer\n",
        "from google.colab import output\n",
        "output.enable_custom_widget_manager()"
      ],
      "metadata": {
        "id": "7sZuFsGN3JL-"
      },
      "execution_count": null,
      "outputs": []
    },
    {
      "cell_type": "markdown",
      "source": [
        "###Reacción química"
      ],
      "metadata": {
        "id": "l-ROkSx-3Ktu"
      }
    },
    {
      "cell_type": "code",
      "source": [
        "SmilesDrawer(value=[(\"Rxn\", \"C(C1C(C(C(C(O1)O)O)O)O)O.O=O>>C(=O)=O.O\")], theme='dark', background=\"#1e1e1e\", options={'scale': 1.25})"
      ],
      "metadata": {
        "colab": {
          "base_uri": "https://localhost:8080/",
          "height": 289,
          "referenced_widgets": [
            "2392ff861d8d41a09a6c8b4d6b7e7061",
            "b97b2e64663a4175877bbff3ffe2dbf3"
          ]
        },
        "id": "hZKTKS5l3Q-f",
        "outputId": "bcda1e79-d2eb-4155-85d0-b8e490994cd7"
      },
      "execution_count": 4,
      "outputs": [
        {
          "output_type": "display_data",
          "data": {
            "text/plain": [
              "SmilesDrawer(background='#1e1e1e', options={'scale': 1.25}, theme='dark', value=[('Rxn', 'C(C1C(C(C(C(O1)O)O)O…"
            ],
            "application/vnd.jupyter.widget-view+json": {
              "version_major": 2,
              "version_minor": 0,
              "model_id": "2392ff861d8d41a09a6c8b4d6b7e7061"
            }
          },
          "metadata": {
            "application/vnd.jupyter.widget-view+json": {
              "colab": {
                "custom_widget_manager": {
                  "url": "https://ssl.gstatic.com/colaboratory-static/widgets/colab-cdn-widget-manager/b3e629b1971e1542/manager.min.js"
                }
              }
            }
          }
        }
      ]
    },
    {
      "cell_type": "code",
      "source": [
        "masa_H = 1.008\n",
        "masa_C = 12.011\n",
        "masa_O = 15.999\n",
        "\n",
        "reactante1 = \"C6H12O6\"\n",
        "reactante2 = \"O2\"\n",
        "producto1 = \"CO2\"\n",
        "producto2 = \"OH2\"\n",
        "\n",
        "print(\"Reaccion original:\")\n",
        "print(f\"{reactante1} + {reactante2} -> {producto1} + {producto2}\")\n",
        "\n",
        "print()\n",
        "print(\"Reaccion balanceada:\")\n",
        "print(f\"{reactante1} + 6 {reactante2} -> 6 {producto1} + 6 {producto2}\")\n",
        "\n",
        "masa_reactante1 = 6*masa_C + 12*masa_H + 6*masa_O\n",
        "masa_reactante2 = 6*(2*masa_O)\n",
        "masa_producto1 = 6*(masa_C + 2*masa_O)\n",
        "masa_producto2 = 6*(masa_O + 2*masa_H)\n",
        "\n",
        "print()\n",
        "print(\"Suma de masas de reactantes y productos:\")\n",
        "if masa_reactante1 + masa_reactante2 == masa_producto1 + masa_producto2:\n",
        "    print(f\"{masa_reactante1} + {masa_reactante2} = {masa_producto1} + {masa_producto2}\")\n",
        "    print(f\"{masa_reactante1 + masa_reactante2} = {masa_producto1 + masa_producto2}\")\n",
        "    print(\"Conservacion de la masa demostrada.\")"
      ],
      "metadata": {
        "colab": {
          "base_uri": "https://localhost:8080/"
        },
        "id": "xtMt0vGG3S7W",
        "outputId": "743c6439-124e-4630-8447-13e3d958892a"
      },
      "execution_count": 8,
      "outputs": [
        {
          "output_type": "stream",
          "name": "stdout",
          "text": [
            "Reaccion original:\n",
            "C6H12O6 + O2 -> CO2 + OH2\n",
            "\n",
            "Reaccion balanceada:\n",
            "C6H12O6 + 6 O2 -> 6 CO2 + 6 OH2\n",
            "\n",
            "Suma de masas de reactantes y productos:\n",
            "180.156 + 191.988 = 264.054 + 108.09\n",
            "372.144 = 372.144\n",
            "Conservacion de la masa demostrada.\n"
          ]
        }
      ]
    },
    {
      "cell_type": "markdown",
      "source": [
        "##Pregunta 4: Notación científica"
      ],
      "metadata": {
        "id": "IeF7TWL4LhMh"
      }
    },
    {
      "cell_type": "markdown",
      "source": [
        "Imprime las siguientes operaciones según la notación científica:\n",
        "\n",
        "(1) $1.321 \\times 10^{-4} + 8.5 \\times 10^{-2}$\n",
        "\n",
        "(2) $1.71 \\times 10^{3} - 2.01 \\times 10^{2}\\$\n",
        "\n",
        "(3) $(7.4 \\times 10^5)(7.2 \\times 10^4)$\n",
        "\n",
        "(4) $(7.4 \\times 10^5)/(7.2 \\times 10^4)$"
      ],
      "metadata": {
        "id": "jqkO2esvNoZD"
      }
    },
    {
      "cell_type": "code",
      "source": [
        "operaciones = [1.321*10**-4 + 8.5*10**-2, 1.71*10**3 - 2.01*10**2, (7.4*10**5)*(7.2*10**4), (7.4*10**5)/(7.2*10**4)]\n",
        "exponentes = []\n",
        "notaciones_cientificas = []\n",
        "\n",
        "for i in range(4):\n",
        "    if operaciones[i] >= 1:\n",
        "        exponente_aux = len(str(int(operaciones[i]))) - 1\n",
        "        notacion_cientifica_aux = round(operaciones[i]/10**exponente_aux, 3)\n",
        "        exponentes.append(exponente_aux)\n",
        "        notaciones_cientificas.append(notacion_cientifica_aux)\n",
        "    else:\n",
        "        start = True\n",
        "        exponente_aux = 1\n",
        "        while start == True:\n",
        "            notacion_cientifica_aux = round(operaciones[i]*10**exponente_aux, 3)\n",
        "            if notacion_cientifica_aux > 1:\n",
        "                start = False\n",
        "            else:\n",
        "                exponente_aux += 1\n",
        "        exponentes.append(-1*exponente_aux)\n",
        "        notaciones_cientificas.append(notacion_cientifica_aux)\n",
        "\n",
        "print(\"Valores con notación científica:\")\n",
        "for i in range(4):\n",
        "    print(f\"({i+1}) {notaciones_cientificas[i]}*10^{exponentes[i]}\")"
      ],
      "metadata": {
        "id": "d8TXIzJ8Lmro",
        "colab": {
          "base_uri": "https://localhost:8080/"
        },
        "outputId": "7dbb95f1-0f96-4a08-ac2e-d8e258266416"
      },
      "execution_count": 9,
      "outputs": [
        {
          "output_type": "stream",
          "name": "stdout",
          "text": [
            "Valores con notación científica:\n",
            "(1) 8.513*10^-2\n",
            "(2) 1.509*10^3\n",
            "(3) 5.328*10^10\n",
            "(4) 1.028*10^1\n"
          ]
        }
      ]
    },
    {
      "cell_type": "markdown",
      "source": [
        "##Pregunta 5: Método científico"
      ],
      "metadata": {
        "id": "CJDbtSDM49kQ"
      }
    }
  ]
}